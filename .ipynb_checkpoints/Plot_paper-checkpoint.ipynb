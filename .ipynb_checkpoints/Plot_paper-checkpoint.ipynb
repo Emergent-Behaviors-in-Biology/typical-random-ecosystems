{
 "cells": [
  {
   "cell_type": "markdown",
   "metadata": {
    "toc": true
   },
   "source": [
    "<h1>Table of Contents<span class=\"tocSkip\"></span></h1>\n",
    "<div class=\"toc\"><ul class=\"toc-item\"><li><span><a href=\"#Heatmap\" data-toc-modified-id=\"Heatmap-1\"><span class=\"toc-item-num\">1&nbsp;&nbsp;</span>Heatmap</a></span><ul class=\"toc-item\"><li><span><a href=\"#Scheme\" data-toc-modified-id=\"Scheme-1.1\"><span class=\"toc-item-num\">1.1&nbsp;&nbsp;</span>Scheme</a></span></li><li><span><a href=\"#Regime-A,-B-and-C\" data-toc-modified-id=\"Regime-A,-B-and-C-1.2\"><span class=\"toc-item-num\">1.2&nbsp;&nbsp;</span>Regime A, B and C</a></span></li><li><span><a href=\"#size-100-and-size-1000\" data-toc-modified-id=\"size-100-and-size-1000-1.3\"><span class=\"toc-item-num\">1.3&nbsp;&nbsp;</span>size 100 and size 1000</a></span></li></ul></li><li><span><a href=\"#Community-Properties\" data-toc-modified-id=\"Community-Properties-2\"><span class=\"toc-item-num\">2&nbsp;&nbsp;</span>Community Properties</a></span></li><li><span><a href=\"#Linear-Response-Functions\" data-toc-modified-id=\"Linear-Response-Functions-3\"><span class=\"toc-item-num\">3&nbsp;&nbsp;</span>Linear Response Functions</a></span></li><li><span><a href=\"#Other-dynamics\" data-toc-modified-id=\"Other-dynamics-4\"><span class=\"toc-item-num\">4&nbsp;&nbsp;</span>Other dynamics</a></span><ul class=\"toc-item\"><li><span><a href=\"#Linear-resource-dynamics\" data-toc-modified-id=\"Linear-resource-dynamics-4.1\"><span class=\"toc-item-num\">4.1&nbsp;&nbsp;</span>Linear-resource dynamics</a></span></li><li><span><a href=\"#Crossfeeding\" data-toc-modified-id=\"Crossfeeding-4.2\"><span class=\"toc-item-num\">4.2&nbsp;&nbsp;</span>Crossfeeding</a></span></li></ul></li><li><span><a href=\"#Positive-Consumption-Rate\" data-toc-modified-id=\"Positive-Consumption-Rate-5\"><span class=\"toc-item-num\">5&nbsp;&nbsp;</span>Positive Consumption Rate</a></span><ul class=\"toc-item\"><li><span><a href=\"#Nonzero-$\\mu$\" data-toc-modified-id=\"Nonzero-$\\mu$-5.1\"><span class=\"toc-item-num\">5.1&nbsp;&nbsp;</span>Nonzero $\\mu$</a></span></li><li><span><a href=\"#Uniform-Sampling\" data-toc-modified-id=\"Uniform-Sampling-5.2\"><span class=\"toc-item-num\">5.2&nbsp;&nbsp;</span>Uniform Sampling</a></span></li><li><span><a href=\"#Binary-Sampling\" data-toc-modified-id=\"Binary-Sampling-5.3\"><span class=\"toc-item-num\">5.3&nbsp;&nbsp;</span>Binary Sampling</a></span></li></ul></li><li><span><a href=\"#Minium-eigenvalue\" data-toc-modified-id=\"Minium-eigenvalue-6\"><span class=\"toc-item-num\">6&nbsp;&nbsp;</span>Minium eigenvalue</a></span><ul class=\"toc-item\"><li><span><a href=\"#Gaussian\" data-toc-modified-id=\"Gaussian-6.1\"><span class=\"toc-item-num\">6.1&nbsp;&nbsp;</span>Gaussian</a></span></li></ul></li></ul></div>"
   ]
  },
  {
   "cell_type": "code",
   "execution_count": 1,
   "metadata": {
    "ExecuteTime": {
     "end_time": "2019-03-29T01:50:31.378074Z",
     "start_time": "2019-03-29T01:50:30.104139Z"
    }
   },
   "outputs": [
    {
     "ename": "NameError",
     "evalue": "name 'color20' is not defined",
     "output_type": "error",
     "traceback": [
      "\u001b[0;31m---------------------------------------------------------------------------\u001b[0m",
      "\u001b[0;31mNameError\u001b[0m                                 Traceback (most recent call last)",
      "\u001b[0;32m<ipython-input-1-444bc4702e18>\u001b[0m in \u001b[0;36m<module>\u001b[0;34m\u001b[0m\n\u001b[1;32m     17\u001b[0m \u001b[0;32mimport\u001b[0m \u001b[0mseaborn\u001b[0m \u001b[0;32mas\u001b[0m \u001b[0msns\u001b[0m\u001b[0;34m\u001b[0m\u001b[0m\n\u001b[1;32m     18\u001b[0m \u001b[0msns\u001b[0m\u001b[0;34m.\u001b[0m\u001b[0mset\u001b[0m\u001b[0;34m(\u001b[0m\u001b[0mstyle\u001b[0m\u001b[0;34m=\u001b[0m\u001b[0;34m\"white\"\u001b[0m\u001b[0;34m)\u001b[0m\u001b[0;34m\u001b[0m\u001b[0m\n\u001b[0;32m---> 19\u001b[0;31m \u001b[0mtableau20\u001b[0m \u001b[0;34m=\u001b[0m \u001b[0mcolor20\u001b[0m\u001b[0;34m(\u001b[0m\u001b[0;34m)\u001b[0m  \u001b[0;31m# initial colors for plot;\u001b[0m\u001b[0;34m\u001b[0m\u001b[0m\n\u001b[0m",
      "\u001b[0;31mNameError\u001b[0m: name 'color20' is not defined"
     ]
    }
   ],
   "source": [
    "%reload_ext autoreload\n",
    "%autoreload 2\n",
    "%matplotlib inline\n",
    "import time\n",
    "import pandas as pd\n",
    "import matplotlib\n",
    "from matplotlib import cm\n",
    "from matplotlib import colors\n",
    "import matplotlib.ticker as ticker\n",
    "import matplotlib.pyplot as plt\n",
    "import numpy as np\n",
    "import pdb\n",
    "import os.path\n",
    "import pickle\n",
    "from scipy.integrate import odeint\n",
    "from scipy.signal import savgol_filter\n",
    "import seaborn as sns\n",
    "def color20():\n",
    "# These are the \"Tableau 20\" colors as RGB.\n",
    "    tableau20 = [(31, 119, 180), (174, 199, 232), (255, 127, 14), (255, 187, 120),\n",
    "             (44, 160, 44), (152, 223, 138), (214, 39, 40), (255, 152, 150),\n",
    "             (148, 103, 189), (197, 176, 213), (140, 86, 75), (196, 156, 148),\n",
    "             (227, 119, 194), (247, 182, 210), (127, 127, 127), (199, 199, 199),\n",
    "             (188, 189, 34), (219, 219, 141), (23, 190, 207), (158, 218, 229)]\n",
    "\n",
    "    # Scale the RGB values to the [0, 1] range, which is the format matplotlib accepts.\n",
    "    for i in range(len(tableau20)):\n",
    "           r, g, b = tableau20[i]\n",
    "           tableau20[i] = (r / 255., g / 255., b / 255.)\n",
    "    return tableau20\n",
    "sns.set(style=\"white\")\n",
    "tableau20 = color20()  # initial colors for plot;"
   ]
  },
  {
   "cell_type": "markdown",
   "metadata": {
    "ExecuteTime": {
     "end_time": "2018-11-05T22:13:32.443105Z",
     "start_time": "2018-11-05T22:13:32.437835Z"
    }
   },
   "source": [
    "##  Heatmap"
   ]
  },
  {
   "cell_type": "markdown",
   "metadata": {},
   "source": [
    "### Scheme"
   ]
  },
  {
   "cell_type": "code",
   "execution_count": null,
   "metadata": {
    "ExecuteTime": {
     "end_time": "2019-03-29T01:50:31.380374Z",
     "start_time": "2019-03-29T01:50:30.240Z"
    }
   },
   "outputs": [],
   "source": [
    "import matplotlib.pyplot as plt\n",
    "import seaborn as sns\n",
    "import numpy as np\n",
    "f, ax = plt.subplots()\n",
    "c = np.eye(5)\n",
    "ax = sns.heatmap(c,vmax=1.25, vmin=0, cmap='gray_r')\n",
    "ax.set_xlabel('Resources',fontsize=20)\n",
    "ax.set_ylabel('Species',fontsize=20)\n",
    "ax.axhline(y=0, color='k',linewidth=3)\n",
    "ax.axhline(y=5, color='k',linewidth=3)\n",
    "ax.axvline(x=0, color='k',linewidth=3)\n",
    "ax.axvline(x=5, color='k',linewidth=3)\n",
    "fig_name='scheme_heatmap1'+'.pdf'\n",
    "f.set_size_inches(6, 5)\n",
    "f.savefig(fig_name, dpi=300,bbox_inches='tight',transparent='True')\n",
    "\n",
    "f, ax = plt.subplots()\n",
    "c = np.eye(5)+1.5/np.sqrt(5)*np.random.random((5, 5))\n",
    "\n",
    "ax=sns.heatmap(c,vmax=1.25, vmin=0, cmap='gray_r')\n",
    "ax.set_xlabel('Resources',fontsize=20)\n",
    "ax.set_ylabel('Species',fontsize=20)\n",
    "ax.axhline(y=0, color='k',linewidth=3)\n",
    "ax.axhline(y=5, color='k',linewidth=3)\n",
    "ax.axvline(x=0, color='k',linewidth=3)\n",
    "ax.axvline(x=5, color='k',linewidth=3)\n",
    "fig_name='scheme_heatmap2'+'.pdf'\n",
    "f.set_size_inches(6, 5)\n",
    "f.savefig(fig_name, dpi=300,bbox_inches='tight',transparent='True')"
   ]
  },
  {
   "cell_type": "markdown",
   "metadata": {},
   "source": [
    "### Regime A, B and C"
   ]
  },
  {
   "cell_type": "code",
   "execution_count": null,
   "metadata": {
    "ExecuteTime": {
     "end_time": "2019-03-29T01:50:31.381476Z",
     "start_time": "2019-03-29T01:50:30.329Z"
    },
    "scrolled": false
   },
   "outputs": [],
   "source": [
    "Sig=[0, 0.01, 0.7, 1., 5.]\n",
    "Size=[100]\n",
    "name_list=['A','B','C' ]\n",
    "type_list=['Identity','Circulant','Block' ]\n",
    "h=0;\n",
    "for i in range(1):\n",
    "    for j in range(5):\n",
    "        i=3\n",
    "        sigc=Sig[j];\n",
    "        M=Size[0]\n",
    "        if i==0:\n",
    "            C=np.eye(M)+sigc/np.sqrt(M)*np.random.randn(M,M)\n",
    "        if i==1:\n",
    "            C=circ(M, 7)+sigc/np.sqrt(M)*np.random.randn(M,M)\n",
    "        if i==2:\n",
    "            C=block(10, 10)+sigc/np.sqrt(M)*np.random.randn(M,M)\n",
    "        if i==3:\n",
    "            C=sigc/np.sqrt(M)*np.random.randn(M,M)\n",
    "        fig, ax = plt.subplots()\n",
    "        fig.set_size_inches(6, 5)\n",
    "        ax=sns.heatmap(C, cbar=True, cmap='gray_r')\n",
    "        ax.axhline(y=0, color='k',linewidth=3)\n",
    "        ax.axhline(y=100, color='k',linewidth=3)\n",
    "        ax.axvline(x=0, color='k',linewidth=3)\n",
    "        ax.axvline(x=100, color='k',linewidth=3)\n",
    "        ax.set_title('$\\sigma_c=$'+str(sigc)+' $M=100$',fontsize=35)\n",
    "        type_list\n",
    "        fig.tight_layout()\n",
    "        fig_name='Fig3_heatmap'+str(i)+str(j)+'.pdf'\n",
    "        fig.savefig(fig_name, dpi=300, transparent=True)\n",
    "        plt.show()"
   ]
  },
  {
   "cell_type": "markdown",
   "metadata": {},
   "source": [
    "### size 100 and size 1000"
   ]
  },
  {
   "cell_type": "code",
   "execution_count": null,
   "metadata": {
    "ExecuteTime": {
     "end_time": "2019-03-29T01:50:31.382602Z",
     "start_time": "2019-03-29T01:50:30.399Z"
    }
   },
   "outputs": [],
   "source": [
    "Sig=[1.]\n",
    "Size=[100, 1000]\n",
    "name_list=['Identity','Circulant','Block']\n",
    "h=0\n",
    "for j in range(2):\n",
    "    for i in range(1):\n",
    "        sigc=Sig[0];\n",
    "        M=Size[j]\n",
    "        fig,ax = plt.subplots()\n",
    "        if i==0:\n",
    "            C=np.eye(M)+sigc/np.sqrt(M)*np.random.randn(M,M)\n",
    "        if i==1:\n",
    "            C=circ(M, 7)+sigc/np.sqrt(M)*np.random.randn(M,M)\n",
    "        if i==2:\n",
    "            C=block(int(M/10), 10)+sigc/np.sqrt(M)*np.random.randn(M,M)\n",
    "        ax=sns.heatmap(C, cbar=True, cmap='gray_r')\n",
    "        ax.set_title('$\\sigma_c=$'+str(sigc)+' $M=$'+str(M),fontsize=40) \n",
    "        fig.set_size_inches(12, 9)\n",
    "        fig.tight_layout()\n",
    "        fig_name='heatmap_M'+str(M)+'.tiff'\n",
    "        fig.savefig(fig_name, dpi=500, transparent=True)\n",
    "        plt.show()"
   ]
  },
  {
   "cell_type": "markdown",
   "metadata": {},
   "source": [
    "## Community Properties"
   ]
  },
  {
   "cell_type": "code",
   "execution_count": null,
   "metadata": {
    "ExecuteTime": {
     "end_time": "2019-03-29T01:50:31.383388Z",
     "start_time": "2019-03-29T01:50:30.470Z"
    }
   },
   "outputs": [],
   "source": [
    "Identity = pd.read_csv('Data/Community_gaussian_identity_quadratic_log_v2.csv')\n",
    "Null = pd.read_csv('Data/Community_gaussian_null_quadratic_log_v2.csv')\n",
    "Block = pd.read_csv('Data/Community_gaussian_block_quadratic_log_v2.csv')\n",
    "Circulant = pd.read_csv('Data/Community_gaussian_circulant_quadratic_log_v2.csv')\n",
    "Data=[Identity,Circulant, Block, Null]\n",
    "Legend = [\"Identity\", \"Circulant\", \"Block\", \"Random\"]\n",
    "fig, axs = plt.subplots(1, 3)\n",
    "axs = axs.ravel()\n",
    "for i in range(3):\n",
    "    ax =axs[i]\n",
    "    ax.set_xlim([10**(-6), 10**(3)])\n",
    "    ax.set_xlabel(r'$\\sigma_c$',fontsize=20)\n",
    "    ax.set_xscale('log')\n",
    "    for j in range(4):\n",
    "        data=Data[j]\n",
    "        data =data[data['mu'] == 0.0] \n",
    "        if i==0:\n",
    "            ax.plot(data['epsilon'],data['phi_N'],linestyle='dashed', alpha=0.7, label=Legend[j])\n",
    "            ax.scatter(data['epsilon'], data['phi_N'], alpha=0.7, label='_nolegend_', s=15)\n",
    "            ax.set_ylim([0, 1.1])\n",
    "            ax.set_ylabel(r'$S^*/M$',fontsize=20)\n",
    "            #ax.set_title(r'Self-renewing dynamics',fontsize=15)\n",
    "            ax.legend(loc='lower left',bbox_to_anchor=(0.01, 0.23, 0.6, 0.6),prop={'size':16})\n",
    "        if i==1:\n",
    "            ax.plot(data['epsilon'],data['mean_N'],linestyle='dashed', alpha=0.7, label=Legend[j])\n",
    "            ax.scatter(data['epsilon'], data['mean_N'], alpha=0.7, label='_nolegend_', s=15)\n",
    "            ax.set_ylim([0, 10.1])\n",
    "            ax.set_ylabel(r'$\\left<N\\right>$',fontsize=20)\n",
    "            #ax.set_title(r'Self-renewing dynamics',fontsize=15)\n",
    "            #ax.legend(loc='lower left',bbox_to_anchor=(0.01, 0.17, 0.6, 0.6))\n",
    "        if i==2:\n",
    "            ax.plot(data['epsilon'],data['q_N'],linestyle='dashed', alpha=0.7, label=Legend[j])\n",
    "            ax.scatter(data['epsilon'], data['q_N'], alpha=0.7, label='_nolegend_', s=15)\n",
    "            ax.set_ylim([1,200.1])\n",
    "            ax.set_ylabel(r'$\\left<N^2\\right>$',fontsize=20)\n",
    "            #ax.set_title(r'Self-renewing dynamics',fontsize=15)\n",
    "            #ax.legend(loc='lower left',bbox_to_anchor=(0.01, 0.17, 0.6, 0.6))\n",
    "fig.set_size_inches(16, 5)\n",
    "fig.tight_layout()\n",
    "fig_name='community_properties_quadratic.pdf'\n",
    "fig.savefig(fig_name, dpi=300, transparent=True)"
   ]
  },
  {
   "cell_type": "markdown",
   "metadata": {},
   "source": [
    "## Linear Response Functions"
   ]
  },
  {
   "cell_type": "code",
   "execution_count": null,
   "metadata": {
    "ExecuteTime": {
     "end_time": "2019-03-29T01:50:31.384250Z",
     "start_time": "2019-03-29T01:50:30.567Z"
    }
   },
   "outputs": [],
   "source": [
    "Diag=pd.read_csv('Data/Community_gaussian_identity_quadratic_log_v2.csv')\n",
    "Data=Diag[Diag['mu']==0]\n",
    "i=0;\n",
    "T=np.asarray(Data['epsilon'])\n",
    "phi_N=np.asarray(Data['phi_N'])\n",
    "phi_R=np.asarray(Data['phi_R'])\n",
    "Chi=np.zeros(len(T))\n",
    "Nu=np.zeros(len(T))\n",
    "i=0\n",
    "for t in T:\n",
    "    if t>1:\n",
    "        Chi[i]=(phi_R[i]-1/t**2)*(1-phi_N[i]/phi_R[i])\n",
    "        Nu[i]=-phi_N[i]/(phi_R[i]-phi_N[i])/t**2\n",
    "    else:\n",
    "        Nu[i]=phi_N[i]/(phi_N[i]*t**2-1)\n",
    "    i=i+1\n",
    "    \n",
    "i=1\n",
    "fig, ax = plt.subplots(1,1,figsize=(6,5))\n",
    "c=8\n",
    "#-------------------------------------------------------------\n",
    "# plot nu, the response function for growth rate perturbations\n",
    "#-------------------------------------------------------------\n",
    "ax.plot(T, -Nu,color=tableau20[c],label='Cavity', linewidth=3,linestyle='dashed')\n",
    "ax.scatter(Data['epsilon'], -Data['nu_threshold'],s=18,color=tableau20[c+1],alpha=0.7,label='Simulation')\n",
    "ax.axvline(x=1.0, linewidth=2, color='k', linestyle='dashed')\n",
    "ax.set_xscale('log')\n",
    "ax.set_ylim([-0.1,12])\n",
    "ax.set_xlim([10**(-6), 10**(3)])\n",
    "ax.set_xlabel(r'$\\sigma_c$',fontsize=30)\n",
    "ax.set_ylabel(r'tr$({A}^{-1})$',fontsize=30)\n",
    "ax.legend(loc='upper left',fontsize=20)\n",
    "fig.tight_layout()\n",
    "fig_name='linear_response1.pdf'\n",
    "fig.savefig(fig_name, dpi=300, transparent=True)\n",
    "#-------------------------------------------------------------\n",
    "# plot chi, the response function for environemnt supplies perturbations\n",
    "#-------------------------------------------------------------\n",
    "fig, ax = plt.subplots(1,1,figsize=(6,5))\n",
    "c=0;\n",
    "ax.plot(T, Chi,color=tableau20[c],label='Cavity')\n",
    "ax.scatter(Data['epsilon'], Data['chi'],color=tableau20[c+1],label='Simulation')\n",
    "ax.axvline(x=1.0, linewidth=2, color='k', linestyle='dashed')\n",
    "ax.set_ylabel(r'$\\chi$',fontsize=30)\n",
    "ax.set_xscale('log')\n",
    "ax.set_xlim([10**(-6), 10**(3)])\n",
    "ax.set_ylim([0,0.15])\n",
    "ax.set_xlabel(r'$\\sigma_c$',fontsize=30)\n",
    "ax.legend(loc='upper left',fontsize=20)\n",
    "fig_name='linear_response2.pdf'\n",
    "fig.tight_layout()\n",
    "fig.savefig(fig_name, dpi=300, transparent=True)"
   ]
  },
  {
   "cell_type": "markdown",
   "metadata": {
    "ExecuteTime": {
     "end_time": "2019-01-27T16:54:42.412714Z",
     "start_time": "2019-01-27T16:54:42.372172Z"
    }
   },
   "source": [
    "## Other dynamics\n",
    "### Linear-resource dynamics"
   ]
  },
  {
   "cell_type": "code",
   "execution_count": null,
   "metadata": {
    "ExecuteTime": {
     "end_time": "2019-03-29T01:50:31.385239Z",
     "start_time": "2019-03-29T01:50:30.642Z"
    }
   },
   "outputs": [],
   "source": [
    "Identity = pd.read_csv('Data/Community_diag_linear_log_v1.csv')\n",
    "Null = pd.read_csv('Data/Community_null_linear_log_v1.csv')\n",
    "Block = pd.read_csv('Data/Community_block_linear_log_v1.csv')\n",
    "Circulant = pd.read_csv('Data/Community_circulant_linear_log_v1.csv')\n",
    "Data=[Identity,Circulant, Block, Null]\n",
    "Legend = [\"Identity\", \"Circulant\", \"Block\", \"Random\"]\n",
    "fig, axs = plt.subplots(1, 3)\n",
    "axs = axs.ravel()\n",
    "for i in range(3):\n",
    "    ax =axs[i]\n",
    "    ax.set_xlim([10**(-6), 10**(3)])\n",
    "    ax.set_xlabel(r'$\\sigma_c$',fontsize=20)\n",
    "    ax.set_xscale('log')\n",
    "    for j in range(4):\n",
    "        data=Data[j]\n",
    "        data =data[data['mu'] == 0.6] \n",
    "        if i==0:\n",
    "            ax.plot(data['epsilon'],data['phi_N'],linestyle='dashed', alpha=0.7, label=Legend[j])\n",
    "            ax.scatter(data['epsilon'], data['phi_N'], alpha=0.7, label='_nolegend_', s=15)\n",
    "            ax.set_ylim([0, 1.1])\n",
    "            ax.set_ylabel(r'$S^*/M$',fontsize=20)\n",
    "            #ax.set_title(r'Self-renewing dynamics',fontsize=15)\n",
    "            ax.legend(loc='lower left',bbox_to_anchor=(0.01, 0.49, 0.6, 0.6),prop={'size':16})\n",
    "        if i==1:\n",
    "            ax.plot(data['epsilon'],data['mean_N'],linestyle='dashed', alpha=0.7, label=Legend[j])\n",
    "            ax.scatter(data['epsilon'], data['mean_N'], alpha=0.7, label='_nolegend_', s=15)\n",
    "            ax.set_ylim([0, 15.1])\n",
    "            ax.set_ylabel(r'$\\left<N\\right>$',fontsize=20)\n",
    "            #ax.set_title(r'Self-renewing dynamics',fontsize=15)\n",
    "            #ax.legend(loc='lower left',bbox_to_anchor=(0.01, 0.17, 0.6, 0.6))\n",
    "        if i==2:\n",
    "            ax.plot(data['epsilon'],data['q_N'],linestyle='dashed', alpha=0.7, label=Legend[j])\n",
    "            ax.scatter(data['epsilon'], data['q_N'], alpha=0.7, label='_nolegend_', s=15)\n",
    "            ax.set_ylim([1,2000.1])\n",
    "            ax.set_ylabel(r'$\\left<N^2\\right>$',fontsize=20)\n",
    "            #ax.set_title(r'Self-renewing dynamics',fontsize=15)\n",
    "            #ax.legend(loc='lower left',bbox_to_anchor=(0.01, 0.17, 0.6, 0.6))\n",
    "fig.set_size_inches(16, 5)\n",
    "fig.tight_layout()\n",
    "fig_name='community_properties_linear.pdf'\n",
    "fig.savefig(fig_name, dpi=300, transparent=True)"
   ]
  },
  {
   "cell_type": "markdown",
   "metadata": {},
   "source": [
    "### Crossfeeding"
   ]
  },
  {
   "cell_type": "code",
   "execution_count": null,
   "metadata": {
    "ExecuteTime": {
     "end_time": "2019-03-29T01:50:31.386307Z",
     "start_time": "2019-03-29T01:50:30.709Z"
    },
    "scrolled": true
   },
   "outputs": [],
   "source": [
    "Identity = pd.read_csv('Data/Community_crossfeedingdiag_quadratic_log.csv')\n",
    "Null = pd.read_csv('Data/Community_crossfeedingnull_quadratic_log.csv')\n",
    "Block = pd.read_csv('Data/Community_crossfeedingblock_quadratic_log.csv')\n",
    "Circulant = pd.read_csv('Data/Community_crossfeedingcirculant_quadratic_log.csv')\n",
    "Data=[Identity,Circulant, Block, Null]\n",
    "Legend = [\"Identity\", \"Circulant\", \"Block\", \"Random\"]\n",
    "fig, axs = plt.subplots(1, 3)\n",
    "axs = axs.ravel()\n",
    "for i in range(3):\n",
    "    ax =axs[i]\n",
    "    ax.set_xlim([10**(-6), 10**(3)])\n",
    "    ax.set_xlabel(r'$\\sigma_c$',fontsize=20)\n",
    "    ax.set_xscale('log')\n",
    "    for j in range(4):\n",
    "        data=Data[j]\n",
    "        data =data[data['mu'] == 0.6] \n",
    "        if i==0:\n",
    "            ax.plot(data['epsilon'],data['phi_N'],linestyle='dashed', alpha=0.7, label=Legend[j])\n",
    "            ax.scatter(data['epsilon'], data['phi_N'], alpha=0.7, label='_nolegend_', s=15)\n",
    "            ax.set_ylim([0, 1.1])\n",
    "            ax.set_ylabel(r'$S^*/M$',fontsize=20)\n",
    "            #ax.set_title(r'Self-renewing dynamics',fontsize=15)\n",
    "            ax.legend(loc='lower left',bbox_to_anchor=(0.01, 0.17, 0.6, 0.6),prop={'size':16})\n",
    "        if i==1:\n",
    "            ax.plot(data['epsilon'],data['mean_N'],linestyle='dashed', alpha=0.7, label=Legend[j])\n",
    "            ax.scatter(data['epsilon'], data['mean_N'], alpha=0.7, label='_nolegend_', s=15)\n",
    "            ax.set_ylim([0, 11.1])\n",
    "            ax.set_ylabel(r'$\\left<N\\right>$',fontsize=20)\n",
    "            #ax.set_title(r'Self-renewing dynamics',fontsize=15)\n",
    "            #ax.legend(loc='lower left',bbox_to_anchor=(0.01, 0.17, 0.6, 0.6))\n",
    "        if i==2:\n",
    "            ax.plot(data['epsilon'],data['q_N'],linestyle='dashed', alpha=0.7, label=Legend[j])\n",
    "            ax.scatter(data['epsilon'], data['q_N'], alpha=0.7, label='_nolegend_', s=15)\n",
    "            ax.set_ylim([0, 165.1])\n",
    "            ax.set_ylabel(r'$\\left<N^2\\right>$',fontsize=20)\n",
    "            #ax.set_title(r'Self-renewing dynamics',fontsize=15)\n",
    "            #ax.legend(loc='lower left',bbox_to_anchor=(0.01, 0.17, 0.6, 0.6))\n",
    "fig.set_size_inches(16, 5)\n",
    "fig.tight_layout()\n",
    "fig_name='community_properties_crossfeeding.pdf'\n",
    "fig.savefig(fig_name, dpi=300, transparent=True)"
   ]
  },
  {
   "cell_type": "markdown",
   "metadata": {},
   "source": [
    "## Positive Consumption Rate"
   ]
  },
  {
   "cell_type": "markdown",
   "metadata": {},
   "source": [
    "### Nonzero $\\mu$"
   ]
  },
  {
   "cell_type": "code",
   "execution_count": null,
   "metadata": {
    "ExecuteTime": {
     "end_time": "2019-03-29T01:50:31.388113Z",
     "start_time": "2019-03-29T01:50:30.838Z"
    }
   },
   "outputs": [],
   "source": [
    "Identity = pd.read_csv('Data/Community_mu_diag_quadratic_log.csv')\n",
    "Data=Identity\n",
    "Mu=list(set(Identity.mu))\n",
    "Legend = [\"$\\mu=0$\", \"$\\mu=0.6$\", \"$\\mu=1.0$\", \"$\\mu=3.0$\", \"$\\mu=5.0$\", \"$\\mu=8.0$\", \"$\\mu=10$\"]\n",
    "fig, axs = plt.subplots(1, 3)\n",
    "axs = axs.ravel()\n",
    "for i in range(3):\n",
    "    ax =axs[i]\n",
    "    ax.set_xlim([10**(-6), 10**(3)])\n",
    "    ax.set_xlabel(r'$\\sigma_c$',fontsize=20)\n",
    "    ax.set_xscale('log')\n",
    "    for j in range(7):\n",
    "        data =Data[Data['mu'] == Mu[j]] \n",
    "        if i==0:\n",
    "            ax.plot(data['epsilon'],data['phi_N'],linestyle='dashed', alpha=0.7, label=Legend[j])\n",
    "            ax.scatter(data['epsilon'], data['phi_N'], alpha=0.7, label='_nolegend_', s=15)\n",
    "            ax.set_ylim([0.2, 1.1])\n",
    "            ax.set_ylabel(r'$S^*/M$',fontsize=20)\n",
    "            #ax.set_title(r'Self-renewing dynamics',fontsize=15)\n",
    "            ax.legend(loc='lower left',bbox_to_anchor=(0.71, 0.43, 0.6, 0.6))\n",
    "        if i==1:\n",
    "            ax.plot(data['epsilon'],data['mean_N'],linestyle='dashed', alpha=0.7, label=Legend[j])\n",
    "            ax.scatter(data['epsilon'], data['mean_N'], alpha=0.7, label='_nolegend_', s=15)\n",
    "            ax.set_ylim([0, 10.1])\n",
    "            ax.set_ylabel(r'$N$',fontsize=20)\n",
    "            #ax.set_title(r'Self-renewing dynamics',fontsize=15)\n",
    "            #ax.legend(loc='lower left',bbox_to_anchor=(0.01, 0.17, 0.6, 0.6))\n",
    "        if i==2:\n",
    "            ax.plot(data['epsilon'],data['q_N'],linestyle='dashed', alpha=0.7, label=Legend[j])\n",
    "            ax.scatter(data['epsilon'], data['q_N'], alpha=0.7, label='_nolegend_', s=15)\n",
    "            ax.set_ylim([1, 200.1])\n",
    "            ax.set_ylabel(r'$q_N$',fontsize=20)\n",
    "            #ax.set_title(r'Self-renewing dynamics',fontsize=15)\n",
    "            #ax.legend(loc='lower left',bbox_to_anchor=(0.01, 0.17, 0.6, 0.6))\n",
    "fig.set_size_inches(16, 5)\n",
    "fig.tight_layout()\n",
    "fig_name='community_properties_mu.pdf'\n",
    "fig.savefig(fig_name, dpi=300, transparent=True)"
   ]
  },
  {
   "cell_type": "markdown",
   "metadata": {},
   "source": [
    "### Uniform Sampling"
   ]
  },
  {
   "cell_type": "code",
   "execution_count": null,
   "metadata": {
    "ExecuteTime": {
     "end_time": "2019-03-29T01:50:31.389104Z",
     "start_time": "2019-03-29T01:50:30.913Z"
    }
   },
   "outputs": [],
   "source": [
    "Identity = pd.read_csv('Data/Community_uniform_identity_quadratic_log_v2.csv')\n",
    "Null = pd.read_csv('Data/Community_uniform_null_quadratic_log_v2.csv')\n",
    "Block = pd.read_csv('Data/Community_uniform_block_quadratic_log_v2.csv')\n",
    "Circulant = pd.read_csv('Data/Community_uniform_circulant_quadratic_log_v2.csv')\n",
    "Legend = [\"Identity\", \"Circulant\", \"Block\", \"Random\"]\n",
    "Data=[Identity, Circulant, Block, Null]\n",
    "fig, axs = plt.subplots(1, 3)\n",
    "axs = axs.ravel()\n",
    "for i in range(3):\n",
    "    ax =axs[i]\n",
    "    ax.set_xlim([10**(-6), 10**1])\n",
    "    ax.set_xlabel(r'$b$',fontsize=20)\n",
    "    ax.set_xscale('log')\n",
    "    for j in range(4):\n",
    "        data =Data[j]\n",
    "        if i==0:\n",
    "            ax.plot(data['epsilon'],data['phi_N'],linestyle='dashed', alpha=0.7, label=Legend[j])\n",
    "            ax.scatter(data['epsilon'], data['Survive']/100, alpha=0.7, label='_nolegend_', s=15)\n",
    "            ax.set_ylim([0.0, 1.1])\n",
    "            ax.set_ylabel(r'$S^*/M$',fontsize=20)\n",
    "            #ax.set_title(r'Self-renewing dynamics',fontsize=15)\n",
    "            ax.legend(loc='lower left',bbox_to_anchor=(0.01, 0.17, 0.6, 0.6),prop={'size':16})\n",
    "        if i==1:\n",
    "            ax.plot(data['epsilon'],data['mean_N'],linestyle='dashed', alpha=0.7, label=Legend[j])\n",
    "            ax.scatter(data['epsilon'], data['mean_N'], alpha=0.7, label='_nolegend_', s=15)\n",
    "            ax.set_ylim([0, 32.1])\n",
    "            ax.set_ylabel(r'$\\left<N\\right>$',fontsize=20)\n",
    "            #ax.set_title(r'Self-renewing dynamics',fontsize=15)\n",
    "            #ax.legend(loc='lower left',bbox_to_anchor=(0.01, 0.17, 0.6, 0.6))\n",
    "        if i==2:\n",
    "            ax.plot(data['epsilon'],data['q_N'],linestyle='dashed', alpha=0.7, label=Legend[j])\n",
    "            ax.scatter(data['epsilon'], data['q_N'], alpha=0.7, label='_nolegend_', s=15)\n",
    "            ax.set_ylim([0, 100.1])\n",
    "            ax.set_ylabel(r'$\\left<N^2\\right>$',fontsize=20)\n",
    "            #ax.set_title(r'Self-renewing dynamics',fontsize=15)\n",
    "            #ax.legend(loc='lower left',bbox_to_anchor=(0.01, 0.17, 0.6, 0.6))\n",
    "fig.set_size_inches(16, 5)\n",
    "fig.tight_layout()\n",
    "fig_name='community_properties_uniform.pdf'\n",
    "fig.savefig(fig_name, dpi=300, transparent=True)"
   ]
  },
  {
   "cell_type": "markdown",
   "metadata": {},
   "source": [
    "### Binary Sampling"
   ]
  },
  {
   "cell_type": "code",
   "execution_count": null,
   "metadata": {
    "ExecuteTime": {
     "end_time": "2019-03-29T01:50:31.390083Z",
     "start_time": "2019-03-29T01:50:30.969Z"
    },
    "scrolled": true
   },
   "outputs": [],
   "source": [
    "Identity = pd.read_csv('Data/Community_binomial_identity_quadratic_log_v2.csv')\n",
    "Null = pd.read_csv('Data/Community_binomial_null_quadratic_log_v2.csv')\n",
    "Block = pd.read_csv('Data/Community_binomial_block_quadratic_log_v2.csv')\n",
    "Circulant = pd.read_csv('Data/Community_binomial_circulant_quadratic_log_v2.csv')\n",
    "Legend = [\"Identity\", \"Circulant\", \"Block\", \"Random\"]\n",
    "Data=[Identity, Circulant, Block, Null]\n",
    "fig, axs = plt.subplots(1, 3)\n",
    "axs = axs.ravel()\n",
    "for i in range(3):\n",
    "    ax =axs[i]\n",
    "    ax.set_xlim([10**(-6), 0.4])\n",
    "    ax.set_xlabel(r'$p_c$',fontsize=20)\n",
    "    ax.set_xscale('log')\n",
    "    for j in range(4):\n",
    "        data =Data[j]\n",
    "        if i==0:\n",
    "            ax.plot(data['epsilon'],data['phi_N'],linestyle='dashed', alpha=0.7, label=Legend[j])\n",
    "            ax.scatter(data['epsilon'], data['Survive']/100, alpha=0.7, label='_nolegend_', s=15)\n",
    "            ax.set_ylim([0.0, 1.1])\n",
    "            ax.set_ylabel(r'$S^*/M$',fontsize=20)\n",
    "            #ax.set_title(r'Self-renewing dynamics',fontsize=15)\n",
    "            ax.legend(loc='lower left',bbox_to_anchor=(0.01, 0.17, 0.6, 0.6),prop={'size':16})\n",
    "        if i==1:\n",
    "            ax.plot(data['epsilon'],data['mean_N'],linestyle='dashed', alpha=0.7, label=Legend[j])\n",
    "            ax.scatter(data['epsilon'], data['mean_N'], alpha=0.7, label='_nolegend_', s=15)\n",
    "            ax.set_ylim([0, 10.1])\n",
    "            ax.set_ylabel(r'$\\left<N\\right>$',fontsize=20)\n",
    "            #ax.set_title(r'Self-renewing dynamics',fontsize=15)\n",
    "            #ax.legend(loc='lower left',bbox_to_anchor=(0.01, 0.17, 0.6, 0.6))\n",
    "        if i==2:\n",
    "            ax.plot(data['epsilon'],data['q_N'],linestyle='dashed', alpha=0.7, label=Legend[j])\n",
    "            ax.scatter(data['epsilon'], data['q_N'], alpha=0.7, label='_nolegend_', s=15)\n",
    "            ax.set_ylim([0, 100.1])\n",
    "            ax.set_ylabel(r'$\\left<N^2\\right>$',fontsize=20)\n",
    "            #ax.set_title(r'Self-renewing dynamics',fontsize=15)\n",
    "            #ax.legend(loc='lower left',bbox_to_anchor=(0.01, 0.17, 0.6, 0.6))\n",
    "fig.set_size_inches(16, 5)\n",
    "fig.tight_layout()\n",
    "fig_name='community_properties_binary.pdf'\n",
    "fig.savefig(fig_name, dpi=300, transparent=True)"
   ]
  },
  {
   "cell_type": "code",
   "execution_count": null,
   "metadata": {
    "ExecuteTime": {
     "end_time": "2019-03-29T01:50:31.391422Z",
     "start_time": "2019-03-29T01:50:30.972Z"
    }
   },
   "outputs": [],
   "source": [
    "Sig=[0, 0.01, 0.7, 1., 5.]\n",
    "Size=[100]\n",
    "name_list=['A','B','C' ]\n",
    "type_list=['Identity','Circulant','Block' ]\n",
    "h=0;\n",
    "for i in range(3):\n",
    "    for j in range(1):\n",
    "        j=0\n",
    "        sigc=Sig[j];\n",
    "        M=Size[0]\n",
    "        if i==0:\n",
    "            C=np.eye(M)+sigc/np.sqrt(M)*np.random.randn(M,M)\n",
    "        if i==1:\n",
    "            C=circ(M, 7)+sigc/np.sqrt(M)*np.random.randn(M,M)\n",
    "        if i==2:\n",
    "            C=block(10, 10)+sigc/np.sqrt(M)*np.random.randn(M,M)\n",
    "        if i==3:\n",
    "            C=sigc/np.sqrt(M)*np.random.randn(M,M)\n",
    "        #fig, (cax, ax) = plt.subplots(nrows=2, figsize=(6,6),  gridspec_kw={\"height_ratios\":[0.05, 1]})\n",
    "        fig, ax = plt.subplots()\n",
    "        fig.set_size_inches(6, 5)\n",
    "        ax=sns.heatmap(C, cmap='gray_r')\n",
    "        ax.axhline(y=0, color='k',linewidth=3)\n",
    "        ax.axhline(y=100, color='k',linewidth=3)\n",
    "        ax.axvline(x=0, color='k',linewidth=3)\n",
    "        ax.axvline(x=100, color='k',linewidth=3)\n",
    "        #fig.colorbar(ax.get_children()[0], cax=cax, orientation=\"horizontal\")\n",
    "        #ax.set_title('$\\sigma_c=$'+str(sigc)+' $M=100$',fontsize=35)\n",
    "        ax.set_title(type_list[i],fontsize=35)\n",
    "        type_list\n",
    "        fig.tight_layout()\n",
    "        fig_name='Fig3_heatmap'+str(i)+str(j)+'.pdf'\n",
    "        fig.savefig(fig_name, dpi=300, transparent=True)\n",
    "        plt.show()"
   ]
  },
  {
   "cell_type": "markdown",
   "metadata": {},
   "source": [
    "## Minium eigenvalue"
   ]
  },
  {
   "cell_type": "markdown",
   "metadata": {},
   "source": [
    "### Gaussian"
   ]
  },
  {
   "cell_type": "code",
   "execution_count": null,
   "metadata": {
    "ExecuteTime": {
     "end_time": "2019-03-29T01:50:31.393276Z",
     "start_time": "2019-03-29T01:50:31.101Z"
    }
   },
   "outputs": [],
   "source": [
    "Identity = pd.read_csv('Data/Community_gaussian_identity_quadratic_log_v2.csv')\n",
    "Null = pd.read_csv('Data/Community_gaussian_null_quadratic_log_v2.csv')\n",
    "Block = pd.read_csv('Data//Community_gaussian_block_quadratic_log_v2.csv')\n",
    "Circulant = pd.read_csv('Data//Community_gaussian_circulant_quadratic_log_v2.csv')\n",
    "Data=[Identity,Circulant, Block, Null]\n",
    "Legend = [\"Identity\", \"Circulant\", \"Block\", \"Random\"]\n",
    "Legend2 = [\"Simulations\", \"Circulant\", \"Block\", \"Random\"]\n",
    "for i in range(1):\n",
    "    data=Data[i]\n",
    "    data =data[data['mu'] == 0.0] \n",
    "    fig, ax = plt.subplots()\n",
    "    ax.set_xlim([10**(-6), 10**(3)])\n",
    "    ax.set_xlabel(r'$\\sigma_c$',fontsize=20)\n",
    "    ax.set_xscale('log')\n",
    "    ax.set_ylim([0.002, 10000.1])\n",
    "    ax.set_yscale('log')\n",
    "    ax.set_ylabel(r'$\\lambda_{min}$',fontsize=20)\n",
    "    if i==0:\n",
    "        ax.axvline(x=1.0, linewidth=2, color='k', linestyle='dashed')\n",
    "    if i==0:\n",
    "        ax.scatter([0.1,0.2,0.3,0.4,0.5,0.6,0.7], [0.91, 0.82,0.7, 0.55, 0.4, 0.21,0.06 ], alpha=0.7, label='Stieltjes transform method', s=15,c='r')\n",
    "    ax.scatter(data['epsilon'], data['lam_min'], alpha=0.7, label='Simulation', s=15,c=tableau20[2*i])\n",
    "    ax.plot(data['epsilon'],data['epsilon']**2*(1-np.sqrt(data['phi_N']/data['phi_R']))**2,linestyle='dashed', alpha=0.9,linewidth=3, label='Marchenko–Pastur Law',c=tableau20[2*i])\n",
    "    ax.legend(loc='lower left',bbox_to_anchor=(0.00, 0.59, 0.6, 0.6),prop={'size':13})\n",
    "    fig.set_size_inches(6, 5)\n",
    "    fig.tight_layout()\n",
    "    fig_name='lam_min_gaussian_'+Legend[i]+'.pdf'\n",
    "    fig.savefig(fig_name, dpi=300, transparent=True)"
   ]
  },
  {
   "cell_type": "code",
   "execution_count": null,
   "metadata": {},
   "outputs": [],
   "source": []
  }
 ],
 "metadata": {
  "anaconda-cloud": {},
  "kernelspec": {
   "display_name": "Python 3",
   "language": "python",
   "name": "python3"
  },
  "language_info": {
   "codemirror_mode": {
    "name": "ipython",
    "version": 3
   },
   "file_extension": ".py",
   "mimetype": "text/x-python",
   "name": "python",
   "nbconvert_exporter": "python",
   "pygments_lexer": "ipython3",
   "version": "3.6.6"
  },
  "latex_envs": {
   "LaTeX_envs_menu_present": true,
   "autoclose": false,
   "autocomplete": true,
   "bibliofile": "biblio.bib",
   "cite_by": "apalike",
   "current_citInitial": 1,
   "eqLabelWithNumbers": true,
   "eqNumInitial": 1,
   "hotkeys": {
    "equation": "Ctrl-E",
    "itemize": "Ctrl-I"
   },
   "labels_anchors": false,
   "latex_user_defs": false,
   "report_style_numbering": false,
   "user_envs_cfg": false
  },
  "notify_time": "5",
  "toc": {
   "base_numbering": 1,
   "nav_menu": {},
   "number_sections": true,
   "sideBar": true,
   "skip_h1_title": true,
   "title_cell": "Table of Contents",
   "title_sidebar": "Contents",
   "toc_cell": true,
   "toc_position": {
    "height": "calc(100% - 180px)",
    "left": "10px",
    "top": "150px",
    "width": "203.963px"
   },
   "toc_section_display": true,
   "toc_window_display": true
  },
  "varInspector": {
   "cols": {
    "lenName": 16,
    "lenType": 16,
    "lenVar": 40
   },
   "kernels_config": {
    "python": {
     "delete_cmd_postfix": "",
     "delete_cmd_prefix": "del ",
     "library": "var_list.py",
     "varRefreshCmd": "print(var_dic_list())"
    },
    "r": {
     "delete_cmd_postfix": ") ",
     "delete_cmd_prefix": "rm(",
     "library": "var_list.r",
     "varRefreshCmd": "cat(var_dic_list()) "
    }
   },
   "types_to_exclude": [
    "module",
    "function",
    "builtin_function_or_method",
    "instance",
    "_Feature"
   ],
   "window_display": false
  }
 },
 "nbformat": 4,
 "nbformat_minor": 2
}
